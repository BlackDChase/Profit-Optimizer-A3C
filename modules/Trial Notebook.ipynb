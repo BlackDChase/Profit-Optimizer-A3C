{
 "cells": [
  {
   "cell_type": "markdown",
   "metadata": {},
   "source": [
    "# Trial Module"
   ]
  },
  {
   "cell_type": "code",
   "execution_count": 1,
   "metadata": {},
   "outputs": [],
   "source": [
    "from Agent import BOSS,GOD\n",
    "from NeuralNet import Network\n",
    "from TempEnv import TempEnv as ENV\n",
    "import log\n",
    "import torch\n",
    "from torch import Tensor"
   ]
  },
  {
   "cell_type": "code",
   "execution_count": 2,
   "metadata": {},
   "outputs": [],
   "source": [
    "stateSize = 9"
   ]
  },
  {
   "cell_type": "code",
   "execution_count": 3,
   "metadata": {},
   "outputs": [],
   "source": [
    "god = GOD(\n",
    "        maxEpisode=100,\n",
    "        nAgent=1,\n",
    "        trajectoryLength=25,\n",
    "        stateSize=stateSize,\n",
    "        actionSpaceDeviation=5,\n",
    "        # This means 5*2+1 number of action [-5*2.5, ... 0 , +5*2.5] percent change in price\n",
    "    )\n",
    "actionSpace = god.getActionSpace()\n",
    "env = ENV(stateSize,actionSpace)\n",
    "god.giveEnvironment(env)\n",
    "boss = god._GOD__bossAgent[0]"
   ]
  },
  {
   "cell_type": "markdown",
   "metadata": {},
   "source": [
    "# Episode 1"
   ]
  },
  {
   "cell_type": "code",
   "execution_count": 4,
   "metadata": {
    "scrolled": true
   },
   "outputs": [
    {
     "name": "stderr",
     "output_type": "stream",
     "text": [
      "/home/black/.local/lib/python3.8/site-packages/torch/nn/modules/container.py:117: UserWarning: Implicit dimension choice for softmax has been deprecated. Change the call to include dim=X as an argument.\n",
      "  input = module(input)\n"
     ]
    },
    {
     "name": "stdout",
     "output_type": "stream",
     "text": [
      "tensor(3)\n",
      "tensor(2)\n",
      "tensor(8)\n",
      "tensor(3)\n",
      "tensor(4)\n",
      "tensor(5)\n",
      "tensor(2)\n",
      "tensor(10)\n",
      "tensor(6)\n",
      "tensor(1)\n",
      "tensor(2)\n",
      "tensor(0)\n",
      "tensor(0)\n",
      "tensor(2)\n",
      "tensor(4)\n",
      "tensor(1)\n",
      "tensor(10)\n",
      "tensor(3)\n",
      "tensor(6)\n",
      "tensor(0)\n",
      "tensor(8)\n",
      "tensor(9)\n",
      "tensor(7)\n",
      "tensor(0)\n",
      "tensor(10)\n"
     ]
    }
   ],
   "source": [
    "boss.startState = boss.god.reset()\n",
    "boss.gatherAndStore()\n",
    "boss.vPredicted = Tensor(len(boss.vPredicted))\n",
    "for i in range(boss.trajectoryLength):\n",
    "    state=boss.trajectoryS[i]\n",
    "    boss.vPredicted[i]=boss.god._getCriticValue(state)\n",
    "\n",
    "boss.vTarget = Tensor(len(boss.vTarget))\n",
    "boss.vTarget[boss.trajectoryLength-1] = boss.trajectoryR[boss.trajectoryLength-1]\n",
    "for i in reversed(range(boss.trajectoryLength-1)):\n",
    "    boss.vTarget[i] = boss.trajectoryR[i].clone() + boss.ɤ*boss.vTarget[i+1].clone()\n",
    "\n",
    "vPredLast = boss.vPredicted[boss.trajectoryLength-1]\n",
    "boss.advantage =  Tensor(len(boss.advantage))\n",
    "boss.advantage[-1]=vPredLast\n",
    "for i in reversed(range(boss.trajectoryLength-1)):\n",
    "    boss.advantage[i] = boss.trajectoryR[i].clone() + boss.ɤ*boss.advantage[i+1].clone() - boss.vPredicted[i].clone()"
   ]
  },
  {
   "cell_type": "code",
   "execution_count": 5,
   "metadata": {
    "scrolled": true
   },
   "outputs": [
    {
     "data": {
      "text/plain": [
       "tensor(265.5144, grad_fn=<MulBackward0>)"
      ]
     },
     "execution_count": 5,
     "metadata": {},
     "output_type": "execute_result"
    }
   ],
   "source": [
    "actionProb = boss.trajectoryA\n",
    "pd = boss.god.forwardP(boss.trajectoryS)\n",
    "dist = torch.distributions.Categorical(pd)\n",
    "logProb = dist.log_prob(boss.trajectoryA)\n",
    "\n",
    "advantage = boss.advantage.detach()\n",
    "\n",
    "loss = -1*torch.mean(advantage*logProb)\n",
    "boss.god._updatePolicy(loss)\n",
    "loss"
   ]
  },
  {
   "cell_type": "code",
   "execution_count": 6,
   "metadata": {},
   "outputs": [
    {
     "data": {
      "text/plain": [
       "tensor(18497.2969, grad_fn=<MeanBackward0>)"
      ]
     },
     "execution_count": 6,
     "metadata": {},
     "output_type": "execute_result"
    }
   ],
   "source": [
    "pred = boss.vPredicted\n",
    "targ = boss.vTarget.detach()\n",
    "loss = torch.mean(torch.pow(pred-targ,2))\n",
    "log.info(f\"critic loss = {loss}\")\n",
    "boss.god._updateCritc(loss)\n",
    "loss"
   ]
  },
  {
   "cell_type": "markdown",
   "metadata": {},
   "source": [
    "# Episode 2"
   ]
  },
  {
   "cell_type": "code",
   "execution_count": 7,
   "metadata": {
    "scrolled": true
   },
   "outputs": [
    {
     "name": "stdout",
     "output_type": "stream",
     "text": [
      "tensor(0)\n",
      "tensor(0)\n",
      "tensor(5)\n",
      "tensor(9)\n",
      "tensor(7)\n",
      "tensor(3)\n",
      "tensor(9)\n",
      "tensor(3)\n",
      "tensor(2)\n",
      "tensor(6)\n",
      "tensor(10)\n",
      "tensor(4)\n",
      "tensor(10)\n",
      "tensor(5)\n",
      "tensor(4)\n",
      "tensor(7)\n",
      "tensor(0)\n",
      "tensor(3)\n",
      "tensor(4)\n",
      "tensor(7)\n",
      "tensor(7)\n",
      "tensor(9)\n",
      "tensor(0)\n",
      "tensor(4)\n",
      "tensor(7)\n"
     ]
    }
   ],
   "source": [
    "boss.startState = boss.god.reset()\n",
    "boss.gatherAndStore()\n",
    "boss.vPredicted = Tensor(len(boss.vPredicted))\n",
    "for i in range(boss.trajectoryLength):\n",
    "    state=boss.trajectoryS[i]\n",
    "    boss.vPredicted[i]=boss.god._getCriticValue(state)\n",
    "\n",
    "boss.vTarget = Tensor(len(boss.vTarget))\n",
    "boss.vTarget[boss.trajectoryLength-1] = boss.trajectoryR[boss.trajectoryLength-1]\n",
    "for i in reversed(range(boss.trajectoryLength-1)):\n",
    "    boss.vTarget[i] = boss.trajectoryR[i].clone() + boss.ɤ*boss.vTarget[i+1].clone()\n",
    "\n",
    "vPredLast = boss.vPredicted[boss.trajectoryLength-1]\n",
    "boss.advantage =  Tensor(len(boss.advantage))\n",
    "boss.advantage[-1]=vPredLast\n",
    "for i in reversed(range(boss.trajectoryLength-1)):\n",
    "    boss.advantage[i] = boss.trajectoryR[i].clone() + boss.ɤ*boss.advantage[i+1].clone() - boss.vPredicted[i].clone()"
   ]
  },
  {
   "cell_type": "code",
   "execution_count": 8,
   "metadata": {},
   "outputs": [
    {
     "data": {
      "text/plain": [
       "tensor(255.2914, grad_fn=<MulBackward0>)"
      ]
     },
     "execution_count": 8,
     "metadata": {},
     "output_type": "execute_result"
    }
   ],
   "source": [
    "\"\"\"\n",
    "Advantage is calculated using critc\n",
    "So issue is most probably with actionProb\n",
    "what else could we do to get these things right\n",
    "- May be its because how we are making it, actionProb[actionIndex]\n",
    "- We should rather copy that index\n",
    "- find another way to run backprop for it\n",
    "\"\"\" \n",
    "actionProb = boss.trajectoryA\n",
    "pd = boss.god.forwardP(boss.trajectoryS)\n",
    "dist = torch.distributions.Categorical(pd)\n",
    "logProb = dist.log_prob(boss.trajectoryA)\n",
    "\n",
    "advantage = boss.advantage.detach()\n",
    "\n",
    "loss = -1*torch.mean(advantage*logProb)\n",
    "boss.god._updatePolicy(loss)\n",
    "loss"
   ]
  },
  {
   "cell_type": "code",
   "execution_count": 9,
   "metadata": {
    "scrolled": true
   },
   "outputs": [
    {
     "data": {
      "text/plain": [
       "tensor(18448.9863, grad_fn=<MeanBackward0>)"
      ]
     },
     "execution_count": 9,
     "metadata": {},
     "output_type": "execute_result"
    }
   ],
   "source": [
    "pred = boss.vPredicted\n",
    "targ = boss.vTarget.detach()\n",
    "loss = torch.mean(torch.pow(pred-targ,2))\n",
    "log.info(f\"critic loss = {loss}\")\n",
    "boss.god._updateCritc(loss)\n",
    "loss"
   ]
  },
  {
   "cell_type": "markdown",
   "metadata": {},
   "source": [
    "# Episode 3"
   ]
  },
  {
   "cell_type": "code",
   "execution_count": 10,
   "metadata": {},
   "outputs": [
    {
     "name": "stdout",
     "output_type": "stream",
     "text": [
      "tensor(1)\n",
      "tensor(0)\n",
      "tensor(5)\n",
      "tensor(1)\n",
      "tensor(9)\n",
      "tensor(5)\n",
      "tensor(1)\n",
      "tensor(2)\n",
      "tensor(3)\n",
      "tensor(9)\n",
      "tensor(9)\n",
      "tensor(5)\n",
      "tensor(6)\n",
      "tensor(5)\n",
      "tensor(5)\n",
      "tensor(2)\n",
      "tensor(10)\n",
      "tensor(0)\n",
      "tensor(3)\n",
      "tensor(9)\n",
      "tensor(8)\n",
      "tensor(10)\n",
      "tensor(7)\n",
      "tensor(5)\n",
      "tensor(10)\n"
     ]
    }
   ],
   "source": [
    "boss.startState = boss.god.reset()\n",
    "boss.gatherAndStore()\n",
    "boss.vPredicted = Tensor(len(boss.vPredicted))\n",
    "for i in range(boss.trajectoryLength):\n",
    "    state=boss.trajectoryS[i]\n",
    "    boss.vPredicted[i]=boss.god._getCriticValue(state)\n",
    "\n",
    "boss.vTarget = Tensor(len(boss.vTarget))\n",
    "boss.vTarget[boss.trajectoryLength-1] = boss.trajectoryR[boss.trajectoryLength-1]\n",
    "for i in reversed(range(boss.trajectoryLength-1)):\n",
    "    boss.vTarget[i] = boss.trajectoryR[i].clone() + boss.ɤ*boss.vTarget[i+1].clone()\n",
    "\n",
    "vPredLast = boss.vPredicted[boss.trajectoryLength-1]\n",
    "boss.advantage =  Tensor(len(boss.advantage))\n",
    "boss.advantage[-1]=vPredLast\n",
    "for i in reversed(range(boss.trajectoryLength-1)):\n",
    "    boss.advantage[i] = boss.trajectoryR[i].clone() + boss.ɤ*boss.advantage[i+1].clone() - boss.vPredicted[i].clone()"
   ]
  },
  {
   "cell_type": "code",
   "execution_count": 11,
   "metadata": {},
   "outputs": [
    {
     "data": {
      "text/plain": [
       "tensor(254.3686, grad_fn=<MulBackward0>)"
      ]
     },
     "execution_count": 11,
     "metadata": {},
     "output_type": "execute_result"
    }
   ],
   "source": [
    "\"\"\"\n",
    "Advantage is calculated using critc\n",
    "So issue is most probably with actionProb\n",
    "what else could we do to get these things right\n",
    "- May be its because how we are making it, actionProb[actionIndex]\n",
    "- We should rather copy that index\n",
    "- find another way to run backprop for it\n",
    "\"\"\" \n",
    "actionProb = boss.trajectoryA\n",
    "pd = boss.god.forwardP(boss.trajectoryS)\n",
    "dist = torch.distributions.Categorical(pd)\n",
    "logProb = dist.log_prob(boss.trajectoryA)\n",
    "\n",
    "advantage = boss.advantage.detach()\n",
    "\n",
    "loss = -1*torch.mean(advantage*logProb)\n",
    "boss.god._updatePolicy(loss)\n",
    "loss"
   ]
  },
  {
   "cell_type": "code",
   "execution_count": 12,
   "metadata": {},
   "outputs": [
    {
     "data": {
      "text/plain": [
       "tensor(18268.0684, grad_fn=<MeanBackward0>)"
      ]
     },
     "execution_count": 12,
     "metadata": {},
     "output_type": "execute_result"
    }
   ],
   "source": [
    "pred = boss.vPredicted\n",
    "targ = boss.vTarget.detach()\n",
    "loss = torch.mean(torch.pow(pred-targ,2))\n",
    "log.info(f\"critic loss = {loss}\")\n",
    "boss.god._updateCritc(loss)\n",
    "loss"
   ]
  }
 ],
 "metadata": {
  "kernelspec": {
   "display_name": "Python 3",
   "language": "python",
   "name": "python3"
  },
  "language_info": {
   "codemirror_mode": {
    "name": "ipython",
    "version": 3
   },
   "file_extension": ".py",
   "mimetype": "text/x-python",
   "name": "python",
   "nbconvert_exporter": "python",
   "pygments_lexer": "ipython3",
   "version": "3.8.3"
  }
 },
 "nbformat": 4,
 "nbformat_minor": 4
}
