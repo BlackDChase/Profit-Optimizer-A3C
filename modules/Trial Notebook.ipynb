{
 "cells": [
  {
   "cell_type": "markdown",
   "metadata": {},
   "source": [
    "# Trial Module"
   ]
  },
  {
   "cell_type": "code",
   "execution_count": 1,
   "metadata": {},
   "outputs": [],
   "source": [
    "from lstm import LSTM\n",
    "from env import LSTMEnv as ENV\n",
    "#from TempEnv import TempEnv as ENV\n",
    "from Agent import GOD\n",
    "import log\n",
    "import sys\n",
    "import torch\n",
    "from torch import nn, multiprocessing, device, Tensor"
   ]
  },
  {
   "cell_type": "code",
   "execution_count": 2,
   "metadata": {},
   "outputs": [],
   "source": [
    "keywords={\n",
    "        \"n\":5,\n",
    "        \"e\":1000,\n",
    "        \"t\":50,\n",
    "        \"a\":7,\n",
    "        \"d\":False,\n",
    "        \"alr\":1e-2,\n",
    "        \"clr\":1e-2,\n",
    "    }\n",
    "stateSize = 13\n",
    "log.info(f\"stateSize = {stateSize}\")\n",
    "\n",
    "n=keywords['a']//2\n",
    "if keywords['a']%2==0:    \n",
    "    actionSpace = [i for i in range(-n*2,n*2+1,2)]\n",
    "    actionSpace.pop(len(x)//2)\n",
    "else:\n",
    "    actionSpace = [i/10 for i in range(-n*25,n*25+1,25)]\n",
    "keywords['a']=actionSpace"
   ]
  },
  {
   "cell_type": "code",
   "execution_count": 3,
   "metadata": {},
   "outputs": [
    {
     "data": {
      "text/plain": [
       "[-5.0, -2.5, 0.0, 2.5, 5.0]"
      ]
     },
     "execution_count": 3,
     "metadata": {},
     "output_type": "execute_result"
    }
   ],
   "source": [
    "actionSpace"
   ]
  },
  {
   "cell_type": "code",
   "execution_count": 4,
   "metadata": {},
   "outputs": [],
   "source": [
    "# LSTM Model\n",
    "actionSpace\n",
    "output_size = 13\n",
    "input_dim = output_size\n",
    "hidden_dim = 128\n",
    "layer_dim = 1\n",
    "modelPath=\"ENV_MODEL/lstm_model.pt\"\n",
    "envDATA=\"../Dataset/normalized_13_columns.csv\""
   ]
  },
  {
   "cell_type": "code",
   "execution_count": 5,
   "metadata": {},
   "outputs": [],
   "source": [
    "god = GOD(\n",
    "    stateSize=int(stateSize),\n",
    "    actionSpace=keywords[\"a\"],\n",
    "    debug=keywords[\"d\"],\n",
    "    maxEpisode=int(keywords[\"e\"]),\n",
    "    nAgent=int(keywords[\"n\"]),\n",
    "    trajectoryLength=int(keywords[\"t\"]),\n",
    "    alr=keywords[\"alr\"],\n",
    "    clr=keywords[\"clr\"]\n",
    ")\n",
    "actionSpace = god.getActionSpace()"
   ]
  },
  {
   "cell_type": "code",
   "execution_count": 6,
   "metadata": {},
   "outputs": [
    {
     "name": "stdout",
     "output_type": "stream",
     "text": [
      "3 [<Agent.BOSS object at 0x7f826cd81520>, <Agent.BOSS object at 0x7f826ccbba60>, <Agent.BOSS object at 0x7f826ccbbfd0>]\n"
     ]
    }
   ],
   "source": [
    "#\"\"\"# Using LSTM Model as ENV\n",
    "output_size = 13\n",
    "input_dim = output_size\n",
    "hidden_dim = 128\n",
    "layer_dim = 1\n",
    "model = LSTM(output_size, input_dim, hidden_dim, layer_dim,debug=keywords[\"d\"])\n",
    "model.loadM(\"ENV_MODEL/lstm_model.pt\")\n",
    "#env=ENV(model,\"../Dataset/13_columns.csv\")\n",
    "env=ENV(model=model,dataset_path=\"../Dataset/normalized_13_columns.csv\",actionSpace=actionSpace,debug=keywords[\"d\"])\n",
    "env.reset()\n",
    "god.giveEnvironment(env)"
   ]
  },
  {
   "cell_type": "code",
   "execution_count": 7,
   "metadata": {},
   "outputs": [
    {
     "name": "stderr",
     "output_type": "stream",
     "text": [
      "BOSS 01: 100%|##########| 25/25 [00:03<00:00,  8.20it/s]\n"
     ]
    },
    {
     "name": "stdout",
     "output_type": "stream",
     "text": [
      "BOSS 01 has completed training\n"
     ]
    },
    {
     "name": "stderr",
     "output_type": "stream",
     "text": [
      "BOSS 00: 100%|##########| 25/25 [00:03<00:00,  8.03it/s]\n"
     ]
    },
    {
     "name": "stdout",
     "output_type": "stream",
     "text": [
      "BOSS 00 has completed training\n"
     ]
    },
    {
     "name": "stderr",
     "output_type": "stream",
     "text": [
      "BOSS 02: 100%|##########| 25/25 [00:03<00:00,  7.99it/s]\n"
     ]
    },
    {
     "name": "stdout",
     "output_type": "stream",
     "text": [
      "BOSS 02 has completed training\n"
     ]
    }
   ],
   "source": [
    "god.train()"
   ]
  }
 ],
 "metadata": {
  "kernelspec": {
   "display_name": "Python 3",
   "language": "python",
   "name": "python3"
  },
  "language_info": {
   "codemirror_mode": {
    "name": "ipython",
    "version": 3
   },
   "file_extension": ".py",
   "mimetype": "text/x-python",
   "name": "python",
   "nbconvert_exporter": "python",
   "pygments_lexer": "ipython3",
   "version": "3.8.3"
  }
 },
 "nbformat": 4,
 "nbformat_minor": 4
}
