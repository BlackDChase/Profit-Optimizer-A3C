{
 "cells": [
  {
   "cell_type": "markdown",
   "metadata": {},
   "source": [
    "# Trial Module\n",
    "\n",
    "- __author__ = 'BlackDChase,MR-TLL'\n",
    "- __version__ = '0.3.0'\n",
    "- [Imports](#Imports)\n",
    "- [Hyperparameter](#Hyperparameters)\n",
    "- [Training A3C](#Training-A3C)\n",
    "- [Master Agent](#Master-Agent)\n",
    "- [Train and Save](#Train-and-Save)\n",
    "- [Testing Model](#Testing-Model)\n",
    "- [Train](#Train)\n",
    "- [Environment](#Environment)\n",
    "- [Test](#Test)\n",
    "- [Plotting](#Plotting)"
   ]
  },
  {
   "cell_type": "markdown",
   "metadata": {},
   "source": [
    "# Imports"
   ]
  },
  {
   "cell_type": "code",
   "execution_count": null,
   "metadata": {},
   "outputs": [],
   "source": [
    "from lstm import LSTM\n",
    "from env import LSTMEnv as ENV\n",
    "#from TempEnv import TempEnv as ENV\n",
    "from Agent import GOD\n",
    "import log\n",
    "import sys\n",
    "import torch\n",
    "from torch import nn, multiprocessing, device, Tensor\n",
    "import matplotlib.pyplot as plt"
   ]
  },
  {
   "cell_type": "markdown",
   "metadata": {},
   "source": [
    "# Hyperparameters"
   ]
  },
  {
   "cell_type": "code",
   "execution_count": null,
   "metadata": {},
   "outputs": [],
   "source": [
    "\"\"\"\n",
    "Hyperparameters\n",
    "\"\"\"\n",
    "stateSize = 13\n",
    "log.info(f\"stateSize = {stateSize}\")\n",
    "keywords={\n",
    "        \"n\":6,\n",
    "        \"e\":500,\n",
    "        \"t\":50,\n",
    "        \"a\":5,\n",
    "        \"d\":False,\n",
    "        \"alr\":1e-3,\n",
    "        \"clr\":1e-3,\n",
    "    }\n",
    "stateSize = 13\n",
    "log.info(f\"stateSize = {stateSize}\")\n",
    "\n",
    "\"\"\"\n",
    "Making the action space\n",
    "\"\"\"\n",
    "n=int(keywords['a']//2)\n",
    "if keywords['a']%2==0:\n",
    "    actionSpace = [i for i in range(-n*2,n*2+1,2)]\n",
    "    actionSpace.pop(len(actionSpace)//2)\n",
    "else:\n",
    "    actionSpace = [i/10 for i in range(-n*25,n*25+1,25)]\n",
    "keywords['a']=actionSpace"
   ]
  },
  {
   "cell_type": "code",
   "execution_count": null,
   "metadata": {
    "scrolled": true
   },
   "outputs": [],
   "source": [
    "actionSpace"
   ]
  },
  {
   "cell_type": "markdown",
   "metadata": {},
   "source": [
    "# Training A3C"
   ]
  },
  {
   "cell_type": "markdown",
   "metadata": {},
   "source": [
    "# Master Agent"
   ]
  },
  {
   "cell_type": "code",
   "execution_count": null,
   "metadata": {},
   "outputs": [],
   "source": [
    "god = GOD(\n",
    "    stateSize=int(stateSize),\n",
    "    actionSpace=keywords[\"a\"],\n",
    "    debug=keywords[\"d\"],\n",
    "    maxEpisode=int(keywords[\"e\"]),\n",
    "    nAgent=int(keywords[\"n\"]),\n",
    "    trajectoryLength=int(keywords[\"t\"]),\n",
    "    alr=keywords[\"alr\"],\n",
    "    clr=keywords[\"clr\"]\n",
    ")\n",
    "print(\"Master Agent Made\")\n",
    "log.info(\"GOD inititated\")\n",
    "log.info(f\"Action space: {actionSpace}\")"
   ]
  },
  {
   "cell_type": "markdown",
   "metadata": {},
   "source": [
    "# Train and Save"
   ]
  },
  {
   "cell_type": "code",
   "execution_count": null,
   "metadata": {},
   "outputs": [],
   "source": [
    "god.train()\n",
    "god.saveModel(\"../Saved_model\")"
   ]
  },
  {
   "cell_type": "markdown",
   "metadata": {},
   "source": [
    "# Testing Model"
   ]
  },
  {
   "cell_type": "markdown",
   "metadata": {},
   "source": [
    "# Enviornment"
   ]
  },
  {
   "cell_type": "code",
   "execution_count": null,
   "metadata": {},
   "outputs": [],
   "source": [
    "#\"\"\"# Using LSTM Model as ENV\n",
    "output_size = 13\n",
    "input_dim = output_size\n",
    "hidden_dim = 128\n",
    "layer_dim = 1\n",
    "model = LSTM(output_size, input_dim, hidden_dim, layer_dim,debug=keywords[\"d\"])\n",
    "model.loadM(\"ENV_MODEL/lstm_model.pt\")\n",
    "log.info(f\"LSTM Model = {model}\")\n",
    "#env=ENV(model,\"../Dataset/13_columns.csv\")\n",
    "env=ENV(\n",
    "    model=model,\n",
    "    dataset_path=\"../Dataset/col13data1.csv\",\n",
    "    actionSpace=actionSpace,\n",
    "    debug=keywords[\"d\"],\n",
    ")\n",
    "env.reset()\n",
    "print(\"Environment inititated\")\n",
    "\"\"\"\n",
    "env = ENV(stateSize,actionSpace)\n",
    "#\"\"\"\n",
    "log.info(\"Environment inititated\")\n",
    "\n",
    "god.giveEnvironment(env)\n",
    "log.info(\"Environment parsed, Boss inititated\")"
   ]
  },
  {
   "cell_type": "markdown",
   "metadata": {},
   "source": [
    "# Test"
   ]
  },
  {
   "cell_type": "code",
   "execution_count": null,
   "metadata": {
    "scrolled": true
   },
   "outputs": [],
   "source": [
    "\"\"\"\n",
    "for 100 timesteps\n",
    "\"\"\"\n",
    "time=100\n",
    "a3cStates = god.test(time=time)\n",
    "normalStates = god.getNormalStates(time=time)\n",
    "profit,profitA3C = god.compare(a3cState=a3cStates,normalState=normalStates)"
   ]
  },
  {
   "cell_type": "markdown",
   "metadata": {},
   "source": [
    "# Plotting"
   ]
  },
  {
   "cell_type": "code",
   "execution_count": null,
   "metadata": {},
   "outputs": [],
   "source": [
    "plt.figure(dpi=100)\n",
    "plt.xlabel(\"Episode\")\n",
    "plt.ylabel(\"Scalled Profit\")\n",
    "plt.plot(profit,label='Profits without A3C')\n",
    "plt.plot(profitA3C,label='Profits with A3C')\n",
    "plt.legend()\n",
    "plt.show()"
   ]
  }
 ],
 "metadata": {
  "kernelspec": {
   "display_name": "Python 3",
   "language": "python",
   "name": "python3"
  },
  "language_info": {
   "codemirror_mode": {
    "name": "ipython",
    "version": 3
   },
   "file_extension": ".py",
   "mimetype": "text/x-python",
   "name": "python",
   "nbconvert_exporter": "python",
   "pygments_lexer": "ipython3",
   "version": "3.8.3"
  }
 },
 "nbformat": 4,
 "nbformat_minor": 4
}
