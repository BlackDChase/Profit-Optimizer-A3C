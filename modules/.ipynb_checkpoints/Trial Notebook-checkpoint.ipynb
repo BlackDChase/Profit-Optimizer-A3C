{
 "cells": [
  {
   "cell_type": "markdown",
   "metadata": {},
   "source": [
    "# Trial Module"
   ]
  },
  {
   "cell_type": "code",
   "execution_count": 1,
   "metadata": {},
   "outputs": [],
   "source": [
    "from lstm import LSTM\n",
    "from env import LSTMEnv as ENV\n",
    "#from TempEnv import TempEnv as ENV\n",
    "from Agent import GOD\n",
    "import log\n",
    "import sys\n",
    "import torch\n",
    "from torch import nn, multiprocessing, device, Tensor"
   ]
  },
  {
   "cell_type": "code",
   "execution_count": 2,
   "metadata": {},
   "outputs": [],
   "source": [
    "keywords={\n",
    "        \"n\":3,\n",
    "        \"e\":25,\n",
    "        \"t\":15,\n",
    "        \"a\":5,\n",
    "        \"d\":True,\n",
    "        \"alr\":1e-3,\n",
    "        \"clr\":1e-3,\n",
    "    }\n",
    "stateSize = 13\n",
    "log.info(f\"stateSize = {stateSize}\")\n",
    "\n",
    "n=keywords['a']//2\n",
    "if keywords['a']%2==0:    \n",
    "    actionSpace = [i for i in range(-n*2,n*2+1,2)]\n",
    "    actionSpace.pop(len(x)//2)\n",
    "else:\n",
    "    actionSpace = [i/10 for i in range(-n*25,n*25+1,25)]\n",
    "keywords['a']=actionSpace"
   ]
  },
  {
   "cell_type": "code",
   "execution_count": 3,
   "metadata": {},
   "outputs": [
    {
     "data": {
      "text/plain": [
       "[-5.0, -2.5, 0.0, 2.5, 5.0]"
      ]
     },
     "execution_count": 3,
     "metadata": {},
     "output_type": "execute_result"
    }
   ],
   "source": [
    "actionSpace"
   ]
  },
  {
   "cell_type": "code",
   "execution_count": 4,
   "metadata": {},
   "outputs": [],
   "source": [
    "# LSTM Model\n",
    "actionSpace\n",
    "output_size = 13\n",
    "input_dim = output_size\n",
    "hidden_dim = 128\n",
    "layer_dim = 1\n",
    "modelPath=\"ENV_MODEL/lstm_model.pt\"\n",
    "envDATA=\"../Dataset/normalized_13_columns.csv\""
   ]
  },
  {
   "cell_type": "code",
   "execution_count": 5,
   "metadata": {},
   "outputs": [],
   "source": [
    "god = GOD(\n",
    "    stateSize=int(stateSize),\n",
    "    actionSpace=keywords[\"a\"],\n",
    "    debug=keywords[\"d\"],\n",
    "    maxEpisode=int(keywords[\"e\"]),\n",
    "    nAgent=int(keywords[\"n\"]),\n",
    "    trajectoryLength=int(keywords[\"t\"]),\n",
    "    alr=keywords[\"alr\"],\n",
    "    clr=keywords[\"clr\"]\n",
    ")\n",
    "actionSpace = god.getActionSpace()"
   ]
  },
  {
   "cell_type": "code",
   "execution_count": 6,
   "metadata": {},
   "outputs": [
    {
     "name": "stdout",
     "output_type": "stream",
     "text": [
      "3 [<Agent.BOSS object at 0x7fbe8a729610>, <Agent.BOSS object at 0x7fbe87e9c100>, <Agent.BOSS object at 0x7fbe87e9c730>]\n"
     ]
    }
   ],
   "source": [
    "#\"\"\"# Using LSTM Model as ENV\n",
    "output_size = 13\n",
    "input_dim = output_size\n",
    "hidden_dim = 128\n",
    "layer_dim = 1\n",
    "model = LSTM(output_size, input_dim, hidden_dim, layer_dim)\n",
    "model.loadM(\"ENV_MODEL/lstm_model.pt\")\n",
    "#env=ENV(model,\"../Dataset/13_columns.csv\")\n",
    "env=ENV(model=model,dataset_path=\"../Dataset/normalized_13_columns.csv\",actionSpace=actionSpace)\n",
    "god.giveEnvironment(env)"
   ]
  },
  {
   "cell_type": "code",
   "execution_count": null,
   "metadata": {},
   "outputs": [
    {
     "name": "stderr",
     "output_type": "stream",
     "text": [
      "BOSS 00:  32%|###2      | 8/25 [00:02<00:06,  2.75it/s]"
     ]
    }
   ],
   "source": [
    "god.train()"
   ]
  },
  {
   "cell_type": "markdown",
   "metadata": {},
   "source": [
    "# A multi attempt"
   ]
  },
  {
   "cell_type": "code",
   "execution_count": null,
   "metadata": {},
   "outputs": [],
   "source": [
    "boss0 = god._GOD__bossAgent[0]\n",
    "boss1 = god._GOD__bossAgent[1]\n",
    "boss2 = god._GOD__bossAgent[2]"
   ]
  },
  {
   "cell_type": "code",
   "execution_count": null,
   "metadata": {},
   "outputs": [],
   "source": [
    "model0 = LSTM(output_size, input_dim, hidden_dim, layer_dim)\n",
    "model0.loadM(\"ENV_MODEL/lstm_model.pt\")\n",
    "model0"
   ]
  },
  {
   "cell_type": "code",
   "execution_count": null,
   "metadata": {},
   "outputs": [],
   "source": [
    "env0=ENV(model=model0,dataset_path=\"../Dataset/normalized_13_columns.csv\",actionSpace=actionSpace)\n",
    "boss0.env=env0\n",
    "boss0.env"
   ]
  },
  {
   "cell_type": "code",
   "execution_count": null,
   "metadata": {},
   "outputs": [],
   "source": [
    "model1 = LSTM(output_size, input_dim, hidden_dim, layer_dim)\n",
    "model1.loadM(\"ENV_MODEL/lstm_model.pt\")"
   ]
  },
  {
   "cell_type": "code",
   "execution_count": null,
   "metadata": {},
   "outputs": [],
   "source": [
    "env1=ENV(model=model1,dataset_path=\"../Dataset/normalized_13_columns.csv\",actionSpace=actionSpace)\n",
    "boss1.env=env1\n",
    "boss1.env"
   ]
  },
  {
   "cell_type": "code",
   "execution_count": null,
   "metadata": {},
   "outputs": [],
   "source": [
    "model2 = LSTM(output_size, input_dim, hidden_dim, layer_dim)\n",
    "model2.loadM(\"ENV_MODEL/lstm_model.pt\")"
   ]
  },
  {
   "cell_type": "code",
   "execution_count": null,
   "metadata": {},
   "outputs": [],
   "source": [
    "env2=ENV(model=model2,dataset_path=\"../Dataset/normalized_13_columns.csv\",actionSpace=actionSpace)\n",
    "boss2.env=env2\n",
    "boss2.env"
   ]
  },
  {
   "cell_type": "code",
   "execution_count": null,
   "metadata": {},
   "outputs": [],
   "source": [
    "process0 = multiprocessing.Process(target=boss0.train)\n",
    "process0"
   ]
  },
  {
   "cell_type": "code",
   "execution_count": null,
   "metadata": {},
   "outputs": [],
   "source": [
    "process1 = multiprocessing.Process(target=boss1.train)\n",
    "process1"
   ]
  },
  {
   "cell_type": "code",
   "execution_count": null,
   "metadata": {},
   "outputs": [],
   "source": [
    "process2 = multiprocessing.Process(target=boss2.train)\n",
    "process2"
   ]
  },
  {
   "cell_type": "code",
   "execution_count": null,
   "metadata": {},
   "outputs": [],
   "source": [
    "process0.start()\n",
    "process1.start()\n",
    "process2.start()"
   ]
  },
  {
   "cell_type": "code",
   "execution_count": null,
   "metadata": {},
   "outputs": [],
   "source": [
    "process0.join()\n",
    "print(\"yay\")"
   ]
  },
  {
   "cell_type": "code",
   "execution_count": null,
   "metadata": {},
   "outputs": [],
   "source": [
    "process1.join()\n",
    "print(\"yay\")"
   ]
  },
  {
   "cell_type": "code",
   "execution_count": null,
   "metadata": {},
   "outputs": [],
   "source": [
    "process2.join()\n",
    "print(\"yay\")"
   ]
  },
  {
   "cell_type": "markdown",
   "metadata": {},
   "source": [
    "# Episode 1"
   ]
  },
  {
   "cell_type": "markdown",
   "metadata": {},
   "source": [
    "# Episode 2"
   ]
  }
 ],
 "metadata": {
  "kernelspec": {
   "display_name": "Python 3",
   "language": "python",
   "name": "python3"
  },
  "language_info": {
   "codemirror_mode": {
    "name": "ipython",
    "version": 3
   },
   "file_extension": ".py",
   "mimetype": "text/x-python",
   "name": "python",
   "nbconvert_exporter": "python",
   "pygments_lexer": "ipython3",
   "version": "3.8.3"
  }
 },
 "nbformat": 4,
 "nbformat_minor": 4
}
